{
 "cells": [
  {
   "cell_type": "code",
   "execution_count": 32,
   "metadata": {
    "collapsed": true
   },
   "outputs": [],
   "source": [
    "from __future__ import division, print_function, absolute_import\n",
    "\n",
    "import matplotlib.pyplot as plt\n",
    "import numpy as np\n",
    "import tensorflow as tf\n",
    "import pandas as pd\n",
    "from pandas import DataFrame\n",
    "from numpy import ndarray,random\n",
    "\n",
    "np.random.seed(2)"
   ]
  },
  {
   "cell_type": "code",
   "execution_count": 33,
   "metadata": {
    "collapsed": true
   },
   "outputs": [],
   "source": [
    "#function to normalize data\n",
    "def normalize(x):\n",
    "    \n",
    "    for i in range(x.shape[0]):\n",
    "       for j in range(x.shape[1]):\n",
    "            x[i][j]=x[i][j]\n",
    "    x=x.astype(float)\n",
    "    maxnorm= [np.amax(x[:,j])  if (j in range(x.shape[1]))==True else 1 for j in range(x.shape[1])]\n",
    "    minnorm= [np.amin(x[:,j])  if (j in range(x.shape[1]))== True else 0 for j in range(x.shape[1])]\n",
    "    for i in range(x.shape[0]):\n",
    "        for j in range(x.shape[1]):\n",
    "            x[i][j]=(x[i][j]- minnorm[j])/(maxnorm[j]-minnorm[j])\n",
    "    return x\n",
    "            "
   ]
  },
  {
   "cell_type": "code",
   "execution_count": null,
   "metadata": {
    "collapsed": true
   },
   "outputs": [],
   "source": [
    "#performs bootstrap of a matrix of datapoints\n",
    "def bootstrap(x,boot_size):\n",
    "    if boot_size==0:\n",
    "        return x\n",
    "    else:\n",
    "        s=np.random.randint(0,x.shape[0]-1,boot_size)\n",
    "        s=np.asarray(s)\n",
    "        w=np.asarray([x[s[i],:] for i in range(s.shape[0])])\n",
    "       \n",
    "        return w"
   ]
  },
  {
   "cell_type": "code",
   "execution_count": 34,
   "metadata": {},
   "outputs": [
    {
     "name": "stdout",
     "output_type": "stream",
     "text": [
      "(1371, 4)\n",
      "(610, 4)\n",
      "(761, 4)\n"
     ]
    }
   ],
   "source": [
    "#extract seismic data and preprocessing\n",
    "banknote=pd.read_csv('banknote_auth.csv')\n",
    "\n",
    "#input data\n",
    "X=banknote.iloc[:,0:4]\n",
    "print(X.shape)\n",
    "#training output\n",
    "y= banknote.iloc[:,4]\n",
    "y=np.asarray(y)\n",
    "y.shape\n",
    "y=np.transpose(y)\n",
    "y=np.ravel(y)\n",
    "\n",
    "X=np.asarray(X)\n",
    "\n",
    "#normalize data\n",
    "\n",
    "from sklearn import preprocessing\n",
    "\n",
    "X=preprocessing.scale(X)\n",
    "X=normalize(X)\n",
    "#extract class 1 data from training set\n",
    "hazardous = [X[i,:] for i in range(X.shape[0]) if y[i] ==1]\n",
    "hazards=np.asarray(hazardous)\n",
    "print(hazards.shape)\n",
    "\n",
    "#extract class 0 data from training set\n",
    "non_hazardous = [X[i,:] for i in range(X.shape[0]) if y[i] ==0]\n",
    "non_hazardous=np.asarray(non_hazardous)\n",
    "print(non_hazardous.shape)\n",
    "hazards=bootstrap(hazards,500000)"
   ]
  },
  {
   "cell_type": "code",
   "execution_count": 35,
   "metadata": {},
   "outputs": [
    {
     "name": "stdout",
     "output_type": "stream",
     "text": [
      "(500000, 4)\n"
     ]
    },
    {
     "data": {
      "image/png": "[encoded data removed]",
      "text/plain": [
       "<matplotlib.figure.Figure at 0x7f65e1ab2c18>"
      ]
     },
     "metadata": {},
     "output_type": "display_data"
    },
    {
     "data": {
      "image/png": "[encoded data removed]",
      "text/plain": [
       "<matplotlib.figure.Figure at 0x7f65e180e940>"
      ]
     },
     "metadata": {},
     "output_type": "display_data"
    },
    {
     "data": {
      "image/png": "[encoded data removed]",
      "text/plain": [
       "<matplotlib.figure.Figure at 0x7f65e1ea3320>"
      ]
     },
     "metadata": {},
     "output_type": "display_data"
    },
    {
     "data": {
      "image/png": "[encoded data removed]",
      "text/plain": [
       "<matplotlib.figure.Figure at 0x7f65e17cb1d0>"
      ]
     },
     "metadata": {},
     "output_type": "display_data"
    }
   ],
   "source": [
    "import seaborn as sns\n",
    "import matplotlib.pyplot as plt\n",
    "from numpy import linalg as LA\n",
    "\n",
    "\n",
    "\n",
    "print (hazards.shape)\n",
    "for j in range(4):\n",
    "    z=hazards[:,j]\n",
    "\n",
    "    \n",
    "    plt.hist(z,density=True,bins=100)\n",
    "    \n",
    "    \n",
    "\n",
    "    plt.show()"
   ]
  },
  {
   "cell_type": "code",
   "execution_count": 25,
   "metadata": {
    "collapsed": true
   },
   "outputs": [],
   "source": []
  },
  {
   "cell_type": "code",
   "execution_count": 28,
   "metadata": {
    "collapsed": true
   },
   "outputs": [],
   "source": []
  },
  {
   "cell_type": "code",
   "execution_count": null,
   "metadata": {
    "collapsed": true
   },
   "outputs": [],
   "source": []
  }
 ],
 "metadata": {
  "kernelspec": {
   "display_name": "Python 3",
   "language": "python",
   "name": "python3"
  },
  "language_info": {
   "codemirror_mode": {
    "name": "ipython",
    "version": 3
   },
   "file_extension": ".py",
   "mimetype": "text/x-python",
   "name": "python",
   "nbconvert_exporter": "python",
   "pygments_lexer": "ipython3",
   "version": "3.6.3"
  }
 },
 "nbformat": 4,
 "nbformat_minor": 2
}
